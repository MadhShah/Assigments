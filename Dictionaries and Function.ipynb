{
 "cells": [
  {
   "cell_type": "markdown",
   "metadata": {},
   "source": [
    "#### 1. Write a Python Program(with class concepts) to find the area of the triangle using the below formula. area = (s*(s-a)*(s-b)*(s-c)) ** 0.5 Function to take the length of the sides of triangle from user should be defined in the parent class and function to calculate the area should be defined in subclass.\n"
   ]
  },
  {
   "cell_type": "code",
   "execution_count": 6,
   "metadata": {},
   "outputs": [],
   "source": [
    "class Triangle:\n",
    "    def __init__(self):\n",
    "        print(\"Enter the sides of the triangle\")\n",
    "        self.sides = [float(input(\"Enter side \"+str(i+1)+\" : \")) for i in range(3)]\n",
    "            \n",
    "class Area(Triangle):\n",
    "    def __init__(self):\n",
    "        Triangle.__init__(self)\n",
    "\n",
    "    def findArea(self):\n",
    "        a, b, c = self.sides\n",
    "        # calculate the semi-perimeter\n",
    "        s = (a + b + c) / 2\n",
    "        area = (s*(s-a)*(s-b)*(s-c)) ** 0.5\n",
    "        print('The area of the triangle is %0.2f' %area)"
   ]
  },
  {
   "cell_type": "code",
   "execution_count": 11,
   "metadata": {},
   "outputs": [
    {
     "name": "stdout",
     "output_type": "stream",
     "text": [
      "Enter the sides of the triangle\n",
      "Enter side 1 : 5\n",
      "Enter side 2 : 7\n",
      "Enter side 3 : 9\n",
      "The area of the triangle is 17.41\n"
     ]
    }
   ],
   "source": [
    "t = Area()\n",
    "t.findArea()"
   ]
  },
  {
   "cell_type": "markdown",
   "metadata": {},
   "source": [
    "#### 1.2 Write a function filter_long_words() that takes a list of words and an integer n and returns the list of words that are longer than n."
   ]
  },
  {
   "cell_type": "code",
   "execution_count": 16,
   "metadata": {
    "scrolled": true
   },
   "outputs": [
    {
     "name": "stdout",
     "output_type": "stream",
     "text": [
      "Enter the length of the word\n",
      "5\n"
     ]
    }
   ],
   "source": [
    "li=[\"Apple\", \"Orange\",\"watermelon\", \"mango\"]  \n",
    "newli=[]\n",
    "print (\"Enter the length of the word\",)\n",
    "n=int(input())\n",
    "def filter_long_words(li,n):\n",
    "    for i in range(len(li)):\n",
    "        if len(li[i])>n:\n",
    "            newli.append(li[i])\n",
    "        else:\n",
    "            False\n",
    "    print(newli)\n"
   ]
  },
  {
   "cell_type": "code",
   "execution_count": 17,
   "metadata": {},
   "outputs": [
    {
     "name": "stdout",
     "output_type": "stream",
     "text": [
      "['Orange', 'watermelon']\n"
     ]
    }
   ],
   "source": [
    "filter_long_words(li,n)"
   ]
  },
  {
   "cell_type": "markdown",
   "metadata": {},
   "source": [
    "#### 2.1 Write a Python program using function concept that maps list of words into a list of integers representing the lengths of the corresponding words. Hint: If a list [ ab,cde,erty] is passed on to the python function output should come as [2,3,4] Here 2,3 and 4 are the lengths of the words in the list."
   ]
  },
  {
   "cell_type": "code",
   "execution_count": 19,
   "metadata": {},
   "outputs": [
    {
     "name": "stdout",
     "output_type": "stream",
     "text": [
      " how many words do you enter \n",
      "3\n",
      "Enter 3 words \n",
      "Apple\n",
      "mango\n",
      "orange\n",
      "['Apple', 'mango', 'orange']\n"
     ]
    }
   ],
   "source": [
    "li=[]\n",
    "print(\" how many words do you enter \")\n",
    "n=int(input())\n",
    "print(\"Enter\",n ,\"words \")\n",
    "for i in range(n):\n",
    "    li.append(input())\n",
    "print(li)\n",
    "\n"
   ]
  },
  {
   "cell_type": "code",
   "execution_count": 20,
   "metadata": {},
   "outputs": [
    {
     "data": {
      "text/plain": [
       "[5, 5, 6]"
      ]
     },
     "execution_count": 20,
     "metadata": {},
     "output_type": "execute_result"
    }
   ],
   "source": [
    "def length(li):\n",
    "    for i in range(len(li)):\n",
    "        return (len(li))\n",
    "F_temps = list(map(length,li))\n",
    "F_temps"
   ]
  },
  {
   "cell_type": "markdown",
   "metadata": {},
   "source": [
    "#### 2.2 Write a Python function which takes a character (i.e. a string of length 1) and returns True if it is a vowel, False otherwise."
   ]
  },
  {
   "cell_type": "code",
   "execution_count": 21,
   "metadata": {},
   "outputs": [
    {
     "name": "stdout",
     "output_type": "stream",
     "text": [
      "Enter a character(i.e. a string of length 1)\n",
      "s\n"
     ]
    },
    {
     "data": {
      "text/plain": [
       "False"
      ]
     },
     "execution_count": 21,
     "metadata": {},
     "output_type": "execute_result"
    }
   ],
   "source": [
    "vowels=[\"a\",\"e\",\"i\",\"o\",\"u\"]\n",
    "print(\"Enter a character(i.e. a string of length 1)\")\n",
    "Char=input()        \n",
    "def vowel(S):\n",
    "        if S in vowels:\n",
    "            return True\n",
    "        else:\n",
    "             return False\n",
    "        \n",
    "vowel(Char)"
   ]
  },
  {
   "cell_type": "code",
   "execution_count": null,
   "metadata": {},
   "outputs": [],
   "source": []
  },
  {
   "cell_type": "code",
   "execution_count": null,
   "metadata": {},
   "outputs": [],
   "source": []
  }
 ],
 "metadata": {
  "kernelspec": {
   "display_name": "Python 3 (ipykernel)",
   "language": "python",
   "name": "python3"
  },
  "language_info": {
   "codemirror_mode": {
    "name": "ipython",
    "version": 3
   },
   "file_extension": ".py",
   "mimetype": "text/x-python",
   "name": "python",
   "nbconvert_exporter": "python",
   "pygments_lexer": "ipython3",
   "version": "3.8.12"
  }
 },
 "nbformat": 4,
 "nbformat_minor": 4
}
